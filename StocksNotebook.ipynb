{
 "cells": [
  {
   "cell_type": "code",
   "execution_count": null,
   "id": "419c08fc-2abb-4203-9b03-b1dbf52b5341",
   "metadata": {
    "tags": []
   },
   "outputs": [],
   "source": [
    "!pip install yfinance==0.2.4\n",
    "#!pip install pandas==1.3.3"
   ]
  },
  {
   "cell_type": "code",
   "execution_count": null,
   "id": "7d11e7af-128a-4720-bbad-42cb422c802f",
   "metadata": {
    "tags": []
   },
   "outputs": [],
   "source": [
    "import yfinance as yf\n",
    "import pandas as pd"
   ]
  },
  {
   "cell_type": "code",
   "execution_count": null,
   "id": "cf6fd145-76c4-4b30-b42d-81fe51adb39e",
   "metadata": {
    "tags": []
   },
   "outputs": [],
   "source": [
    "# Get Tesla (TSLA) stock data\n",
    "tsla = yf.Ticker(\"TSLA\")"
   ]
  },
  {
   "cell_type": "code",
   "execution_count": null,
   "id": "5adff383-ee71-45cb-841e-621d5895fd3b",
   "metadata": {
    "tags": []
   },
   "outputs": [],
   "source": [
    "# Get the historical data for Tesla\n",
    "tsla_data = tsla.history(period=\"max\")"
   ]
  },
  {
   "cell_type": "code",
   "execution_count": null,
   "id": "0dbdf797-bb63-45de-9614-b1da3bab8b2b",
   "metadata": {
    "tags": []
   },
   "outputs": [],
   "source": [
    "# Print the first few rows of the data\n",
    "print(tsla_data.head())"
   ]
  },
  {
   "cell_type": "code",
   "execution_count": null,
   "id": "58df5bc1-22cf-4e4b-9a2b-882eb7156693",
   "metadata": {
    "tags": []
   },
   "outputs": [],
   "source": [
    "import requests\n",
    "from bs4 import BeautifulSoup"
   ]
  },
  {
   "cell_type": "code",
   "execution_count": null,
   "id": "ae66d525-deae-4909-aa86-ae9dc8b2ac0e",
   "metadata": {
    "tags": []
   },
   "outputs": [],
   "source": [
    "# URL of the Tesla Investor Relations page\n",
    "url = \"https://ir.tesla.com/financial-information/quarterly-results\"\n",
    "\n",
    "# Send a GET request to the URL\n",
    "response = requests.get(url)\n",
    "\n",
    "# Parse the HTML content using BeautifulSoup\n",
    "soup = BeautifulSoup(response.content, \"html.parser\")\n",
    "\n",
    "# Find the revenue data table\n",
    "revenue_table = soup.find(\"table\", {\"class\": \"Table__StyledTable-sc-1rksvz8-0 dtrZnb\"})\n",
    "\n",
    "# Extract the revenue data from the table\n",
    "revenue_data = []\n",
    "for row in revenue_table.find_all(\"tr\")[1:]:\n",
    "    cells = row.find_all(\"td\")\n",
    "    quarter = cells[0].text.strip()\n",
    "    revenue = float(cells[1].text.replace(\",\", \"\").replace(\"$\", \"\"))\n",
    "    revenue_data.append({\"Quarter\": quarter, \"Revenue\": revenue})\n",
    "\n",
    "# Print the revenue data\n",
    "for data in revenue_data:\n",
    "    print(f\"{data['Quarter']} - Revenue: ${data['Revenue']:,.2f}\")"
   ]
  },
  {
   "cell_type": "code",
   "execution_count": null,
   "id": "55acea37-32ac-4fba-97ba-e68d4c0687f5",
   "metadata": {
    "tags": []
   },
   "outputs": [],
   "source": [
    "# Get GameStop (GME) stock data\n",
    "gme = yf.Ticker(\"GME\")\n",
    "\n",
    "# Get the historical data for GameStop\n",
    "gme_data = gme.history(period=\"max\")\n",
    "\n",
    "# Print the first few rows of the data\n",
    "print(gme_data.head())"
   ]
  },
  {
   "cell_type": "code",
   "execution_count": null,
   "id": "46f376b8-a84b-4964-8d7a-a545dbd5b90e",
   "metadata": {
    "tags": []
   },
   "outputs": [],
   "source": [
    "# URL of the GameStop Investor Relations page\n",
    "url = \"https://gamestop.gcs-web.com/financial-information/quarterly-results\"\n",
    "\n",
    "# Send a GET request to the URL\n",
    "response = requests.get(url)\n",
    "\n",
    "# Parse the HTML content using BeautifulSoup\n",
    "soup = BeautifulSoup(response.content, \"html.parser\")\n",
    "\n",
    "# Find the revenue data table\n",
    "revenue_table = soup.find(\"table\")\n",
    "\n",
    "# Extract the revenue data from the table\n",
    "revenue_data = []\n",
    "for row in revenue_table.find_all(\"tr\")[1:]:\n",
    "    cells = row.find_all(\"td\")\n",
    "    quarter = cells[0].text.strip()\n",
    "    revenue = float(cells[1].text.replace(\",\", \"\").replace(\"$\", \"\"))\n",
    "    revenue_data.append({\"Quarter\": quarter, \"Revenue\": revenue})\n",
    "\n",
    "# Print the revenue data\n",
    "for data in revenue_data:\n",
    "    print(f\"{data['Quarter']} - Revenue: ${data['Revenue']:,.2f}\")"
   ]
  },
  {
   "cell_type": "code",
   "execution_count": null,
   "id": "16aa0d26-d74e-42dd-8587-fb8af00aa319",
   "metadata": {
    "tags": []
   },
   "outputs": [],
   "source": [
    "import plotly.graph_objects as go\n",
    "from plotly.subplots import make_subplots"
   ]
  },
  {
   "cell_type": "code",
   "execution_count": null,
   "id": "a0edd3bc-4cd4-43f1-b853-c11c33b509d7",
   "metadata": {
    "tags": []
   },
   "outputs": [],
   "source": [
    "# Get Tesla (TSLA) stock data\n",
    "tsla = yf.Ticker(\"TSLA\")\n",
    "tsla_data = tsla.history(period=\"max\")\n",
    "\n",
    "# Get Tesla revenue data\n",
    "tsla_revenue_url = \"https://ir.tesla.com/financial-information/quarterly-results\"\n",
    "response = requests.get(tsla_revenue_url)\n",
    "soup = BeautifulSoup(response.content, \"html.parser\")\n",
    "revenue_table = soup.find(\"table\", {\"class\": \"Table__StyledTable-sc-1rksvz8-0 dtrZnb\"})\n",
    "\n",
    "tsla_revenue_data = []\n",
    "for row in revenue_table.find_all(\"tr\")[1:]:\n",
    "    cells = row.find_all(\"td\")\n",
    "    quarter = cells[0].text.strip()\n",
    "    revenue = float(cells[1].text.replace(\",\", \"\").replace(\"$\", \"\"))\n",
    "    tsla_revenue_data.append({\"Quarter\": quarter, \"Revenue\": revenue})\n",
    "\n",
    "# Create the dashboard\n",
    "fig = make_subplots(rows=2, cols=1, shared_xaxes=True, vertical_spacing=0.1)\n",
    "\n",
    "# Plot the stock data\n",
    "fig.add_trace(\n",
    "    go.Scatter(x=tsla_data.index, y=tsla_data[\"Close\"], name=\"Stock Price\"),\n",
    "    row=1, col=1\n",
    ")\n",
    "\n",
    "# Plot the revenue data\n",
    "fig.add_trace(\n",
    "    go.Bar(x=[data[\"Quarter\"] for data in tsla_revenue_data],\n",
    "           y=[data[\"Revenue\"] for data in tsla_revenue_data],\n",
    "           name=\"Revenue\"),\n",
    "    row=2, col=1\n",
    ")\n",
    "\n",
    "# Customize the layout\n",
    "fig.update_layout(\n",
    "    title=\"Tesla Stock and Revenue\",\n",
    "    xaxis_title=\"Date\",\n",
    "    yaxis_title=\"Stock Price (USD)\",\n",
    "    yaxis2_title=\"Revenue (USD)\",\n",
    "    barmode=\"group\",\n",
    "    bargap=0.1,\n",
    "    height=800\n",
    ")\n",
    "\n",
    "fig.show()"
   ]
  },
  {
   "cell_type": "code",
   "execution_count": null,
   "id": "a347642b-c7c9-40e3-a124-f37a243a47f7",
   "metadata": {
    "tags": []
   },
   "outputs": [],
   "source": [
    "# Get GameStop (GME) stock data\n",
    "gme = yf.Ticker(\"GME\")\n",
    "gme_data = gme.history(period=\"max\")\n",
    "\n",
    "# Get GameStop revenue data\n",
    "gme_revenue_url = \"https://gamestop.gcs-web.com/financial-information/quarterly-results\"\n",
    "response = requests.get(gme_revenue_url)\n",
    "soup = BeautifulSoup(response.content, \"html.parser\")\n",
    "revenue_table = soup.find(\"table\", {\"class\": \"Table__StyledTable-sc-1rksvz8-0 dtrZnb\"})\n",
    "\n",
    "gme_revenue_data = []\n",
    "for row in revenue_table.find_all(\"tr\")[1:]:\n",
    "    cells = row.find_all(\"td\")\n",
    "    quarter = cells[0].text.strip()\n",
    "    revenue = float(cells[1].text.replace(\",\", \"\").replace(\"$\", \"\"))\n",
    "    gme_revenue_data.append({\"Quarter\": quarter, \"Revenue\": revenue})\n",
    "\n",
    "# Create the dashboard\n",
    "fig = make_subplots(rows=2, cols=1, shared_xaxes=True, vertical_spacing=0.1)\n",
    "\n",
    "# Plot the stock data\n",
    "fig.add_trace(\n",
    "    go.Scatter(x=gme_data.index, y=gme_data[\"Close\"], name=\"Stock Price\"),\n",
    "    row=1, col=1\n",
    ")\n",
    "\n",
    "# Plot the revenue data\n",
    "fig.add_trace(\n",
    "    go.Bar(x=[data[\"Quarter\"] for data in gme_revenue_data],\n",
    "           y=[data[\"Revenue\"] for data in gme_revenue_data],\n",
    "           name=\"Revenue\"),\n",
    "    row=2, col=1\n",
    ")\n",
    "\n",
    "# Customize the layout\n",
    "fig.update_layout(\n",
    "    title=\"GameStop Stock and Revenue\",\n",
    "    xaxis_title=\"Date\",\n",
    "    yaxis_title=\"Stock Price (USD)\",\n",
    "    yaxis2_title=\"Revenue (USD)\",\n",
    "    barmode=\"group\",\n",
    "    bargap=0.1,\n",
    "    height=800\n",
    ")\n",
    "\n",
    "fig.show()"
   ]
  },
  {
   "cell_type": "code",
   "execution_count": null,
   "id": "544006c1-19d9-44b2-83fb-11bd86cfc94e",
   "metadata": {},
   "outputs": [],
   "source": []
  }
 ],
 "metadata": {
  "kernelspec": {
   "display_name": "Python",
   "language": "python",
   "name": "conda-env-python-py"
  },
  "language_info": {
   "codemirror_mode": {
    "name": "ipython",
    "version": 3
   },
   "file_extension": ".py",
   "mimetype": "text/x-python",
   "name": "python",
   "nbconvert_exporter": "python",
   "pygments_lexer": "ipython3",
   "version": "3.7.12"
  }
 },
 "nbformat": 4,
 "nbformat_minor": 5
}
